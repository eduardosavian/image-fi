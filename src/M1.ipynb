{
 "cells": [
  {
   "cell_type": "markdown",
   "metadata": {},
   "source": [
    "## Importing"
   ]
  },
  {
   "cell_type": "markdown",
   "metadata": {},
   "source": [
    "## Libs"
   ]
  },
  {
   "cell_type": "code",
   "execution_count": 1,
   "metadata": {},
   "outputs": [],
   "source": [
    "import os\n",
    "\n",
    "import cv2 as cv\n",
    "import numpy as np\n",
    "import seaborn as sns"
   ]
  },
  {
   "cell_type": "markdown",
   "metadata": {},
   "source": [
    "### Utils"
   ]
  },
  {
   "cell_type": "code",
   "execution_count": null,
   "metadata": {},
   "outputs": [],
   "source": [
    "def read_image(name: str, itype: str) -> np.ndarray:\n",
    "    path = os.path.join(GetDirectory(), \"images\", itype, name)\n",
    "    #print(f\"Read on: {path}\")\n",
    "\n",
    "    if not os.path.isfile(path):\n",
    "        print(f\"Image file '{path}' does not exist.\")\n",
    "        return\n",
    "\n",
    "    image = cv.imread(path, cv.IMREAD_UNCHANGED)\n",
    "\n",
    "    return image"
   ]
  },
  {
   "cell_type": "code",
   "execution_count": null,
   "metadata": {},
   "outputs": [],
   "source": [
    "def normalize_image(img: np.ndarray, depth: int = 8) -> np.ndarray:\n",
    "    N = np.float32((2 ** depth) - 1)\n",
    "\n",
    "    def normalize(n: np.float32):\n",
    "        return n / N\n",
    "\n",
    "    normalizev = np.vectorize(normalize)\n",
    "\n",
    "    norm = img.astype(np.float32)\n",
    "    norm = normalizev(norm)\n",
    "\n",
    "    return norm"
   ]
  },
  {
   "cell_type": "code",
   "execution_count": null,
   "metadata": {},
   "outputs": [],
   "source": [
    "def denormalize_image(norm, depth=8):\n",
    "    max_value = np.float32((2 ** depth) - 1)\n",
    "\n",
    "    denormalizev = np.vectorize(lambda n: np.floor(n * max_value))\n",
    "\n",
    "    denorm = denormalizev(norm)\n",
    "\n",
    "    if depth == 8:\n",
    "        denorm = denorm.astype(np.uint8)\n",
    "    elif depth == 16:\n",
    "        denorm = denorm.astype(np.uint16)\n",
    "    elif depth == 32:\n",
    "        denorm = denorm.astype(np.uint32)\n",
    "    elif depth <= 8:\n",
    "        if depth == 0: max_value = np.float32(1)\n",
    "        frac = 255 / max_value\n",
    "        denorm = (denorm * frac).astype(np.uint8)\n",
    "    else:\n",
    "        assert False, \"Unsupported depth\"\n",
    "\n",
    "    return denorm"
   ]
  },
  {
   "cell_type": "markdown",
   "metadata": {},
   "source": [
    "## Ops"
   ]
  },
  {
   "cell_type": "markdown",
   "metadata": {},
   "source": [
    "### Noise"
   ]
  },
  {
   "cell_type": "code",
   "execution_count": null,
   "metadata": {},
   "outputs": [],
   "source": [
    "def put_noise(image: np.ndarray, standard_deviation: float=0.1, mean: float=0.0) -> np.ndarray:\n",
    "    print(\"\\nNoise\")\n",
    "\n",
    "    image_noise = np.random.normal(mean, standard_deviation, image.shape)\n",
    "    image_noise += image\n",
    "    image_noise = np.clip(image_noise, 0.0, 1.0)\n",
    "\n",
    "    return image_noise"
   ]
  },
  {
   "cell_type": "markdown",
   "metadata": {},
   "source": [
    "### Histogram"
   ]
  },
  {
   "cell_type": "code",
   "execution_count": null,
   "metadata": {},
   "outputs": [],
   "source": [
    "def img_8bit_val_count_percent(img: np.ndarray):\n",
    "    counts = np.zeros(256, np.uint64)\n",
    "\n",
    "    h, w = img.shape\n",
    "    for row in range(h):\n",
    "        for col in range(w):\n",
    "            idx = img[row, col]\n",
    "            counts[idx] += 1\n",
    "\n",
    "    total = img.size\n",
    "    counts = counts / total\n",
    "\n",
    "    return counts"
   ]
  },
  {
   "cell_type": "code",
   "execution_count": null,
   "metadata": {},
   "outputs": [],
   "source": [
    "def make_histogram(image_name: str, title: str = ''):\n",
    "    img = read_image(image_name, \"manipulations/mono\")\n",
    "\n",
    "    if title == '':\n",
    "        title = image_name\n",
    "\n",
    "    try:\n",
    "        plt.xlabel('Pixel Value [0, 255]')\n",
    "        plt.ylabel('% of Pixels')\n",
    "        vals = img_8bit_val_count_percent(img)\n",
    "        plt.bar(range(256), vals, width=1, align='edge')  # Adjusted the range and width\n",
    "        plt.xlim(0, 255)  # Set x-axis limit\n",
    "        plt.ylim(0)  # Set y-axis limit to start from 0, but don't specify an upper limit\n",
    "        write_plot_image(image_name, \"histogram\", plt)\n",
    "    finally:\n",
    "        plt.clf()"
   ]
  },
  {
   "cell_type": "code",
   "execution_count": null,
   "metadata": {},
   "outputs": [],
   "source": [
    "\n",
    "def plot_histogram(image: np.ndarray, image_noise: np.ndarray, image_mask: np.ndarray, image_name: str) -> np.ndarray:\n",
    "    fig, (ax1, ax2) = plt.subplots(1, 2, figsize=(15, 5))  # Create two subplots side by side\n",
    "# Use seaborn color palette for better colors\n",
    "    colors = sns.color_palette(\"bright\")\n",
    "\n",
    "    # Plot a histogram of image without noise (excluding 255 and 0) in ax1\n",
    "    ax1.hist(image.ravel(), bins=256, range=(0, 255), color=colors[0], alpha=0.7, label='Without Noise')\n",
    "    ax1.hist(image_noise.ravel(), bins=256, range=(0, 255), color=colors[3], alpha=0.7, label='With Noise')\n",
    "\n",
    "    # Set labels and legend for ax1\n",
    "    ax1.set_xlabel('Pixel Value')\n",
    "    ax1.set_ylabel('Frequency')\n",
    "    ax1.legend(loc='upper right')\n",
    "\n",
    "    # Plot a histogram of image_mask in ax2\n",
    "    ax2.hist(image_noise.ravel(), bins=255, range=(0, 255), color=colors[3], alpha=0.7, label='With Noise')\n",
    "    ax2.hist(image_mask.ravel(), bins=255, range=(0, 255), color=colors[2], alpha=0.7, label='With Mask')\n",
    "\n",
    "    # Set labels and legend for ax2\n",
    "    ax2.set_xlabel('Pixel Value')\n",
    "    ax2.set_ylabel('Frequency')\n",
    "    ax2.legend(loc='upper right')\n",
    "\n",
    "    # Save the plot\n",
    "\n",
    "    write_plot_image(image_name, \"histogram\", plt)"
   ]
  },
  {
   "cell_type": "markdown",
   "metadata": {},
   "source": [
    "### Blur"
   ]
  },
  {
   "cell_type": "code",
   "execution_count": null,
   "metadata": {},
   "outputs": [],
   "source": [
    "def blur(image: np.ndarray) -> np.ndarray:\n",
    "    print(\"\\nBlur\")\n",
    "    mask = np.array([\n",
    "    [1, 1, 1],\n",
    "    [1, 1, 1],\n",
    "    [1, 1, 1]]) * (1/9)\n",
    "\n",
    "    res = convolution(image, mask).clip(0.0,1.0)\n",
    "    return res"
   ]
  },
  {
   "cell_type": "markdown",
   "metadata": {},
   "source": [
    "### Calculate"
   ]
  },
  {
   "cell_type": "code",
   "execution_count": null,
   "metadata": {},
   "outputs": [],
   "source": [
    "def calculate_mse(image_without_noise: np.ndarray, image_with_noise: np.ndarray) -> float:\n",
    "    n, m = image_without_noise.shape[:2]\n",
    "\n",
    "    mse = np.sum((image_without_noise - image_with_noise)**2) / (n * m)\n",
    "\n",
    "    return mse\n",
    "\n",
    "\n",
    "def calculate_psnr(image_without_noise: np.ndarray, mse_value: float) -> float:\n",
    "    max_value = np.max(image_without_noise)\n",
    "\n",
    "    psnr = 10 * np.log10((max_value ** 2) / mse_value)\n",
    "\n",
    "    return psnr"
   ]
  },
  {
   "cell_type": "markdown",
   "metadata": {},
   "source": [
    "### Convulation"
   ]
  },
  {
   "cell_type": "code",
   "execution_count": null,
   "metadata": {},
   "outputs": [],
   "source": [
    "def valid_mask_shape(mask: np.ndarray) -> bool:\n",
    "  is_odd = lambda x: (x % 2) != 0\n",
    "  return (mask.shape[0] == mask.shape[1]) and is_odd(mask.shape[0])\n",
    "\n",
    "\n",
    "def mat_bounds_check(row, col, height, width) -> bool:\n",
    "  ok = (col < width) and (col > 0) and (row < height) and (row > 0)\n",
    "  return ok"
   ]
  },
  {
   "cell_type": "code",
   "execution_count": null,
   "metadata": {},
   "outputs": [],
   "source": [
    "def convolution(img: np.ndarray, mask: np.ndarray) -> np.ndarray:\n",
    "  assert valid_mask_shape(mask)\n",
    "\n",
    "  N = mask.shape[0] // 2\n",
    "  border_img = cv.copyMakeBorder(img, N,N,N,N, cv.BORDER_CONSTANT, value=(0,0,0))\n",
    "  res = np.zeros( img.shape )\n",
    "  HEIGHT, WIDTH = border_img.shape\n",
    "\n",
    "  for row in range(N, HEIGHT - N):\n",
    "    for col in range(N, WIDTH - N):\n",
    "      slice = border_img[(row-N):(row+N+1), (col-N):(col+N+1)]\n",
    "      total = np.clip(0, np.sum(mask * slice), 1.0)\n",
    "      res[row - N, col - N] = total\n",
    "\n",
    "\n",
    "  return res"
   ]
  },
  {
   "cell_type": "code",
   "execution_count": null,
   "metadata": {},
   "outputs": [],
   "source": [
    "images_name = [\"barb.tif\", \"tank.tiff\", \"lena2.tif\"]\n",
    "\n",
    "    std_dev = float(sys.argv[1])\n",
    "\n",
    "    for image_name in images_name:\n",
    "        print(image_name)\n",
    "\n",
    "        image = read_image(image_name, \"repository\")\n",
    "        image_normalized = normalize_image(image)\n",
    "\n",
    "        image_noise = put_noise(image_normalized, std_dev)\n",
    "        image_noise_desnormalized = denormalize_image(image_noise)\n",
    "        write_image(image_name, \"noise\", image_noise_desnormalized)\n",
    "\n",
    "        mse = calculate_mse(image, image_noise_desnormalized)\n",
    "        psnr = calculate_psnr(image, mse)\n",
    "\n",
    "        print(\"\\nMSE\")\n",
    "        print(mse)\n",
    "        print(\"\\nPSNR\")\n",
    "        print(psnr)\n",
    "\n",
    "        image_blur = blur(image_noise)\n",
    "        image_blur_desnormalized = denormalize_image(image_blur)\n",
    "        write_image(image_name, \"mask\", image_noise_desnormalized)\n",
    "\n",
    "        plot_histogram(image, image_noise_desnormalized, image_blur_desnormalized, image_name)"
   ]
  }
 ],
 "metadata": {
  "kernelspec": {
   "display_name": ".venv",
   "language": "python",
   "name": "python3"
  },
  "language_info": {
   "codemirror_mode": {
    "name": "ipython",
    "version": 3
   },
   "file_extension": ".py",
   "mimetype": "text/x-python",
   "name": "python",
   "nbconvert_exporter": "python",
   "pygments_lexer": "ipython3",
   "version": "3.12.1"
  }
 },
 "nbformat": 4,
 "nbformat_minor": 2
}
